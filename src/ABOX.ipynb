{
 "cells": [
  {
   "cell_type": "code",
   "execution_count": 1,
   "metadata": {
    "pycharm": {
     "name": "#%%\n"
    }
   },
   "outputs": [],
   "source": [
    "from rdflib.namespace import RDF, RDFS, FOAF, XSD\n",
    "from rdflib import Graph\n",
    "import pandas as pd\n",
    "from rdflib import Namespace\n",
    "from rdflib import Literal"
   ]
  },
  {
   "cell_type": "code",
   "execution_count": 2,
   "metadata": {
    "pycharm": {
     "name": "#%%\n"
    }
   },
   "outputs": [],
   "source": [
    "# Create a Graph\n",
    "g = Graph()"
   ]
  },
  {
   "cell_type": "code",
   "execution_count": 8,
   "metadata": {
    "pycharm": {
     "name": "#%%\n"
    }
   },
   "outputs": [],
   "source": [
    "#upload a csv file with instances \n",
    "Author = pd.read_csv('../data/raw/publication-data/Authors.csv')\n",
    "Papers = pd.read_csv('../data/raw/publication-data/Papers.csv')\n",
    "Author_by = pd.read_csv('../data/raw/publication-data/Authored_by.csv')\n",
    "Affiliations = pd.read_csv('../data/raw/publication-data/Affiliations.csv')\n",
    "CEditions = pd.read_csv('../data/raw/publication-data/CEditions.csv')\n",
    "Citations = pd.read_csv('../data/raw/publication-data/Citations.csv')\n",
    "Conferences = pd.read_csv('../data/raw/publication-data/Conferences.csv')\n",
    "Journals = pd.read_csv('../data/raw/publication-data/Journals.csv')\n",
    "JVolumes = pd.read_csv('../data/raw/publication-data/JVolumes.csv')\n",
    "Keyword_paper = pd.read_csv('../data/raw/publication-data/Keyword_paper.csv')\n",
    "Keywords = pd.read_csv('../data/raw/publication-data/Keywords.csv')\n",
    "Organizations = pd.read_csv('../data/raw/publication-data/Organizations.csv')\n",
    "Reviews = pd.read_csv('../data/raw/publication-data/Reviews.csv')"
   ]
  },
  {
   "cell_type": "code",
   "execution_count": 16,
   "outputs": [],
   "source": [
    "Author.rename(columns={\"id\": \"idA\"}, inplace=True)\n",
    "Author_Papers = Author.join(Author_by.set_index('idA'), on=\"idA\").join(Papers.set_index('id'), on=\"idP\")"
   ],
   "metadata": {
    "collapsed": false,
    "pycharm": {
     "name": "#%%\n"
    }
   }
  },
  {
   "cell_type": "code",
   "execution_count": 90,
   "metadata": {
    "pycharm": {
     "name": "#%%\n"
    }
   },
   "outputs": [],
   "source": [
    "Author_Papers = (Author.set_index('id').join(Author_by.set_index('idA'))).set_index('idP').join(Papers.set_index('id')).reset_index()\n"
   ]
  },
  {
   "cell_type": "code",
   "execution_count": 17,
   "metadata": {
    "pycharm": {
     "name": "#%%\n"
    }
   },
   "outputs": [
    {
     "data": {
      "text/plain": "            idA           name  idP  first_author confjournal  idEidV  \\\n0  a57218202833      Gautam A.    0          True  Conference       0   \n1   a7004904337  Crandall J.W.    0         False  Conference       0   \n1   a7004904337  Crandall J.W.  155         False  Conference      27   \n1   a7004904337  Crandall J.W.  298          True  Conference      80   \n1   a7004904337  Crandall J.W.  630         False  Conference     265   \n\n                                               title  \\\n0  Self-assessment of Proficiency of Intelligent ...   \n1  Self-assessment of Proficiency of Intelligent ...   \n1  Moderating operator influence in human-swarm s...   \n1  Cooperating in long-term relationships with ti...   \n1  Information design in crowdfunding under thres...   \n\n                                            abstract  \n0  Autonomous systems, although capable of perfor...  \n1  Autonomous systems, although capable of perfor...  \n1  In human-swarm systems, human input to a robot...  \n1  Extended interactions between agents have comm...  \n1  Crowdfundmg has emerged as a prominent way for...  ",
      "text/html": "<div>\n<style scoped>\n    .dataframe tbody tr th:only-of-type {\n        vertical-align: middle;\n    }\n\n    .dataframe tbody tr th {\n        vertical-align: top;\n    }\n\n    .dataframe thead th {\n        text-align: right;\n    }\n</style>\n<table border=\"1\" class=\"dataframe\">\n  <thead>\n    <tr style=\"text-align: right;\">\n      <th></th>\n      <th>idA</th>\n      <th>name</th>\n      <th>idP</th>\n      <th>first_author</th>\n      <th>confjournal</th>\n      <th>idEidV</th>\n      <th>title</th>\n      <th>abstract</th>\n    </tr>\n  </thead>\n  <tbody>\n    <tr>\n      <th>0</th>\n      <td>a57218202833</td>\n      <td>Gautam A.</td>\n      <td>0</td>\n      <td>True</td>\n      <td>Conference</td>\n      <td>0</td>\n      <td>Self-assessment of Proficiency of Intelligent ...</td>\n      <td>Autonomous systems, although capable of perfor...</td>\n    </tr>\n    <tr>\n      <th>1</th>\n      <td>a7004904337</td>\n      <td>Crandall J.W.</td>\n      <td>0</td>\n      <td>False</td>\n      <td>Conference</td>\n      <td>0</td>\n      <td>Self-assessment of Proficiency of Intelligent ...</td>\n      <td>Autonomous systems, although capable of perfor...</td>\n    </tr>\n    <tr>\n      <th>1</th>\n      <td>a7004904337</td>\n      <td>Crandall J.W.</td>\n      <td>155</td>\n      <td>False</td>\n      <td>Conference</td>\n      <td>27</td>\n      <td>Moderating operator influence in human-swarm s...</td>\n      <td>In human-swarm systems, human input to a robot...</td>\n    </tr>\n    <tr>\n      <th>1</th>\n      <td>a7004904337</td>\n      <td>Crandall J.W.</td>\n      <td>298</td>\n      <td>True</td>\n      <td>Conference</td>\n      <td>80</td>\n      <td>Cooperating in long-term relationships with ti...</td>\n      <td>Extended interactions between agents have comm...</td>\n    </tr>\n    <tr>\n      <th>1</th>\n      <td>a7004904337</td>\n      <td>Crandall J.W.</td>\n      <td>630</td>\n      <td>False</td>\n      <td>Conference</td>\n      <td>265</td>\n      <td>Information design in crowdfunding under thres...</td>\n      <td>Crowdfundmg has emerged as a prominent way for...</td>\n    </tr>\n  </tbody>\n</table>\n</div>"
     },
     "execution_count": 17,
     "metadata": {},
     "output_type": "execute_result"
    }
   ],
   "source": [
    "Author_Papers.head()"
   ]
  },
  {
   "cell_type": "code",
   "execution_count": 130,
   "metadata": {
    "pycharm": {
     "name": "#%%\n"
    }
   },
   "outputs": [],
   "source": [
    "Keyword_Papers = Keywords.set_index('id').join(Keyword_paper.set_index('idK')).set_index('idP').join(Papers.set_index('id')).reset_index()"
   ]
  },
  {
   "cell_type": "code",
   "execution_count": 185,
   "metadata": {
    "pycharm": {
     "name": "#%%\n"
    }
   },
   "outputs": [
    {
     "data": {
      "text/html": [
       "<div>\n",
       "<style scoped>\n",
       "    .dataframe tbody tr th:only-of-type {\n",
       "        vertical-align: middle;\n",
       "    }\n",
       "\n",
       "    .dataframe tbody tr th {\n",
       "        vertical-align: top;\n",
       "    }\n",
       "\n",
       "    .dataframe thead th {\n",
       "        text-align: right;\n",
       "    }\n",
       "</style>\n",
       "<table border=\"1\" class=\"dataframe\">\n",
       "  <thead>\n",
       "    <tr style=\"text-align: right;\">\n",
       "      <th></th>\n",
       "      <th>index</th>\n",
       "      <th>keyword</th>\n",
       "      <th>confjournal</th>\n",
       "      <th>idEidV</th>\n",
       "      <th>title</th>\n",
       "      <th>abstract</th>\n",
       "    </tr>\n",
       "  </thead>\n",
       "  <tbody>\n",
       "    <tr>\n",
       "      <th>0</th>\n",
       "      <td>0</td>\n",
       "      <td>Environment</td>\n",
       "      <td>Conference</td>\n",
       "      <td>0</td>\n",
       "      <td>Self-assessment of Proficiency of Intelligent ...</td>\n",
       "      <td>Autonomous systems, although capable of perfor...</td>\n",
       "    </tr>\n",
       "    <tr>\n",
       "      <th>1</th>\n",
       "      <td>0</td>\n",
       "      <td>Goal(s)</td>\n",
       "      <td>Conference</td>\n",
       "      <td>0</td>\n",
       "      <td>Self-assessment of Proficiency of Intelligent ...</td>\n",
       "      <td>Autonomous systems, although capable of perfor...</td>\n",
       "    </tr>\n",
       "    <tr>\n",
       "      <th>2</th>\n",
       "      <td>0</td>\n",
       "      <td>Intelligent agents</td>\n",
       "      <td>Conference</td>\n",
       "      <td>0</td>\n",
       "      <td>Self-assessment of Proficiency of Intelligent ...</td>\n",
       "      <td>Autonomous systems, although capable of perfor...</td>\n",
       "    </tr>\n",
       "    <tr>\n",
       "      <th>3</th>\n",
       "      <td>0</td>\n",
       "      <td>Proficiency</td>\n",
       "      <td>Conference</td>\n",
       "      <td>0</td>\n",
       "      <td>Self-assessment of Proficiency of Intelligent ...</td>\n",
       "      <td>Autonomous systems, although capable of perfor...</td>\n",
       "    </tr>\n",
       "    <tr>\n",
       "      <th>4</th>\n",
       "      <td>0</td>\n",
       "      <td>Self-assessment</td>\n",
       "      <td>Conference</td>\n",
       "      <td>0</td>\n",
       "      <td>Self-assessment of Proficiency of Intelligent ...</td>\n",
       "      <td>Autonomous systems, although capable of perfor...</td>\n",
       "    </tr>\n",
       "  </tbody>\n",
       "</table>\n",
       "</div>"
      ],
      "text/plain": [
       "   index             keyword confjournal  idEidV  \\\n",
       "0      0         Environment  Conference       0   \n",
       "1      0             Goal(s)  Conference       0   \n",
       "2      0  Intelligent agents  Conference       0   \n",
       "3      0         Proficiency  Conference       0   \n",
       "4      0     Self-assessment  Conference       0   \n",
       "\n",
       "                                               title  \\\n",
       "0  Self-assessment of Proficiency of Intelligent ...   \n",
       "1  Self-assessment of Proficiency of Intelligent ...   \n",
       "2  Self-assessment of Proficiency of Intelligent ...   \n",
       "3  Self-assessment of Proficiency of Intelligent ...   \n",
       "4  Self-assessment of Proficiency of Intelligent ...   \n",
       "\n",
       "                                            abstract  \n",
       "0  Autonomous systems, although capable of perfor...  \n",
       "1  Autonomous systems, although capable of perfor...  \n",
       "2  Autonomous systems, although capable of perfor...  \n",
       "3  Autonomous systems, although capable of perfor...  \n",
       "4  Autonomous systems, although capable of perfor...  "
      ]
     },
     "execution_count": 185,
     "metadata": {},
     "output_type": "execute_result"
    }
   ],
   "source": [
    "Keyword_Papers.head()"
   ]
  },
  {
   "cell_type": "code",
   "execution_count": 191,
   "metadata": {
    "pycharm": {
     "name": "#%%\n"
    }
   },
   "outputs": [],
   "source": [
    "Journal_Keyword = Journals.set_index('id').join(JVolumes.set_index('idJ')).set_index('id').join(Keyword_Papers.set_index('idEidV')).reset_index()"
   ]
  },
  {
   "cell_type": "code",
   "execution_count": 192,
   "metadata": {
    "pycharm": {
     "name": "#%%\n"
    }
   },
   "outputs": [
    {
     "data": {
      "text/html": [
       "<div>\n",
       "<style scoped>\n",
       "    .dataframe tbody tr th:only-of-type {\n",
       "        vertical-align: middle;\n",
       "    }\n",
       "\n",
       "    .dataframe tbody tr th {\n",
       "        vertical-align: top;\n",
       "    }\n",
       "\n",
       "    .dataframe thead th {\n",
       "        text-align: right;\n",
       "    }\n",
       "</style>\n",
       "<table border=\"1\" class=\"dataframe\">\n",
       "  <thead>\n",
       "    <tr style=\"text-align: right;\">\n",
       "      <th></th>\n",
       "      <th>level_0</th>\n",
       "      <th>journal</th>\n",
       "      <th>volume</th>\n",
       "      <th>date</th>\n",
       "      <th>index</th>\n",
       "      <th>keyword</th>\n",
       "      <th>confjournal</th>\n",
       "      <th>title</th>\n",
       "      <th>abstract</th>\n",
       "    </tr>\n",
       "  </thead>\n",
       "  <tbody>\n",
       "    <tr>\n",
       "      <th>0</th>\n",
       "      <td>0</td>\n",
       "      <td>Journal of Hydraulic Engineering</td>\n",
       "      <td>146</td>\n",
       "      <td>2020</td>\n",
       "      <td>0.0</td>\n",
       "      <td>Environment</td>\n",
       "      <td>Conference</td>\n",
       "      <td>Self-assessment of Proficiency of Intelligent ...</td>\n",
       "      <td>Autonomous systems, although capable of perfor...</td>\n",
       "    </tr>\n",
       "    <tr>\n",
       "      <th>1</th>\n",
       "      <td>0</td>\n",
       "      <td>Journal of Hydraulic Engineering</td>\n",
       "      <td>146</td>\n",
       "      <td>2020</td>\n",
       "      <td>0.0</td>\n",
       "      <td>Goal(s)</td>\n",
       "      <td>Conference</td>\n",
       "      <td>Self-assessment of Proficiency of Intelligent ...</td>\n",
       "      <td>Autonomous systems, although capable of perfor...</td>\n",
       "    </tr>\n",
       "    <tr>\n",
       "      <th>2</th>\n",
       "      <td>0</td>\n",
       "      <td>Journal of Hydraulic Engineering</td>\n",
       "      <td>146</td>\n",
       "      <td>2020</td>\n",
       "      <td>0.0</td>\n",
       "      <td>Intelligent agents</td>\n",
       "      <td>Conference</td>\n",
       "      <td>Self-assessment of Proficiency of Intelligent ...</td>\n",
       "      <td>Autonomous systems, although capable of perfor...</td>\n",
       "    </tr>\n",
       "    <tr>\n",
       "      <th>3</th>\n",
       "      <td>0</td>\n",
       "      <td>Journal of Hydraulic Engineering</td>\n",
       "      <td>146</td>\n",
       "      <td>2020</td>\n",
       "      <td>0.0</td>\n",
       "      <td>Proficiency</td>\n",
       "      <td>Conference</td>\n",
       "      <td>Self-assessment of Proficiency of Intelligent ...</td>\n",
       "      <td>Autonomous systems, although capable of perfor...</td>\n",
       "    </tr>\n",
       "    <tr>\n",
       "      <th>4</th>\n",
       "      <td>0</td>\n",
       "      <td>Journal of Hydraulic Engineering</td>\n",
       "      <td>146</td>\n",
       "      <td>2020</td>\n",
       "      <td>0.0</td>\n",
       "      <td>Self-assessment</td>\n",
       "      <td>Conference</td>\n",
       "      <td>Self-assessment of Proficiency of Intelligent ...</td>\n",
       "      <td>Autonomous systems, although capable of perfor...</td>\n",
       "    </tr>\n",
       "  </tbody>\n",
       "</table>\n",
       "</div>"
      ],
      "text/plain": [
       "   level_0                           journal  volume  date  index  \\\n",
       "0        0  Journal of Hydraulic Engineering     146  2020    0.0   \n",
       "1        0  Journal of Hydraulic Engineering     146  2020    0.0   \n",
       "2        0  Journal of Hydraulic Engineering     146  2020    0.0   \n",
       "3        0  Journal of Hydraulic Engineering     146  2020    0.0   \n",
       "4        0  Journal of Hydraulic Engineering     146  2020    0.0   \n",
       "\n",
       "              keyword confjournal  \\\n",
       "0         Environment  Conference   \n",
       "1             Goal(s)  Conference   \n",
       "2  Intelligent agents  Conference   \n",
       "3         Proficiency  Conference   \n",
       "4     Self-assessment  Conference   \n",
       "\n",
       "                                               title  \\\n",
       "0  Self-assessment of Proficiency of Intelligent ...   \n",
       "1  Self-assessment of Proficiency of Intelligent ...   \n",
       "2  Self-assessment of Proficiency of Intelligent ...   \n",
       "3  Self-assessment of Proficiency of Intelligent ...   \n",
       "4  Self-assessment of Proficiency of Intelligent ...   \n",
       "\n",
       "                                            abstract  \n",
       "0  Autonomous systems, although capable of perfor...  \n",
       "1  Autonomous systems, although capable of perfor...  \n",
       "2  Autonomous systems, although capable of perfor...  \n",
       "3  Autonomous systems, although capable of perfor...  \n",
       "4  Autonomous systems, although capable of perfor...  "
      ]
     },
     "execution_count": 192,
     "metadata": {},
     "output_type": "execute_result"
    }
   ],
   "source": [
    "Journal_Keyword.head()"
   ]
  },
  {
   "cell_type": "code",
   "execution_count": 188,
   "metadata": {
    "pycharm": {
     "name": "#%%\n"
    }
   },
   "outputs": [],
   "source": [
    "Paper_volume = Conferences.set_index('id').join(CEditions.set_index('idC')).set_index('id').join(Keyword_Papers.set_index('idEidV')).reset_index()"
   ]
  },
  {
   "cell_type": "code",
   "execution_count": 189,
   "metadata": {
    "pycharm": {
     "name": "#%%\n"
    }
   },
   "outputs": [
    {
     "data": {
      "text/html": [
       "<div>\n",
       "<style scoped>\n",
       "    .dataframe tbody tr th:only-of-type {\n",
       "        vertical-align: middle;\n",
       "    }\n",
       "\n",
       "    .dataframe tbody tr th {\n",
       "        vertical-align: top;\n",
       "    }\n",
       "\n",
       "    .dataframe thead th {\n",
       "        text-align: right;\n",
       "    }\n",
       "</style>\n",
       "<table border=\"1\" class=\"dataframe\">\n",
       "  <thead>\n",
       "    <tr style=\"text-align: right;\">\n",
       "      <th></th>\n",
       "      <th>level_0</th>\n",
       "      <th>conference</th>\n",
       "      <th>city</th>\n",
       "      <th>date</th>\n",
       "      <th>index</th>\n",
       "      <th>keyword</th>\n",
       "      <th>confjournal</th>\n",
       "      <th>title</th>\n",
       "      <th>abstract</th>\n",
       "    </tr>\n",
       "  </thead>\n",
       "  <tbody>\n",
       "    <tr>\n",
       "      <th>0</th>\n",
       "      <td>0</td>\n",
       "      <td>Advances in Intelligent Systems and Computing</td>\n",
       "      <td>city2</td>\n",
       "      <td>2021</td>\n",
       "      <td>0.0</td>\n",
       "      <td>Environment</td>\n",
       "      <td>Conference</td>\n",
       "      <td>Self-assessment of Proficiency of Intelligent ...</td>\n",
       "      <td>Autonomous systems, although capable of perfor...</td>\n",
       "    </tr>\n",
       "    <tr>\n",
       "      <th>1</th>\n",
       "      <td>0</td>\n",
       "      <td>Advances in Intelligent Systems and Computing</td>\n",
       "      <td>city2</td>\n",
       "      <td>2021</td>\n",
       "      <td>0.0</td>\n",
       "      <td>Goal(s)</td>\n",
       "      <td>Conference</td>\n",
       "      <td>Self-assessment of Proficiency of Intelligent ...</td>\n",
       "      <td>Autonomous systems, although capable of perfor...</td>\n",
       "    </tr>\n",
       "    <tr>\n",
       "      <th>2</th>\n",
       "      <td>0</td>\n",
       "      <td>Advances in Intelligent Systems and Computing</td>\n",
       "      <td>city2</td>\n",
       "      <td>2021</td>\n",
       "      <td>0.0</td>\n",
       "      <td>Intelligent agents</td>\n",
       "      <td>Conference</td>\n",
       "      <td>Self-assessment of Proficiency of Intelligent ...</td>\n",
       "      <td>Autonomous systems, although capable of perfor...</td>\n",
       "    </tr>\n",
       "    <tr>\n",
       "      <th>3</th>\n",
       "      <td>0</td>\n",
       "      <td>Advances in Intelligent Systems and Computing</td>\n",
       "      <td>city2</td>\n",
       "      <td>2021</td>\n",
       "      <td>0.0</td>\n",
       "      <td>Proficiency</td>\n",
       "      <td>Conference</td>\n",
       "      <td>Self-assessment of Proficiency of Intelligent ...</td>\n",
       "      <td>Autonomous systems, although capable of perfor...</td>\n",
       "    </tr>\n",
       "    <tr>\n",
       "      <th>4</th>\n",
       "      <td>0</td>\n",
       "      <td>Advances in Intelligent Systems and Computing</td>\n",
       "      <td>city2</td>\n",
       "      <td>2021</td>\n",
       "      <td>0.0</td>\n",
       "      <td>Self-assessment</td>\n",
       "      <td>Conference</td>\n",
       "      <td>Self-assessment of Proficiency of Intelligent ...</td>\n",
       "      <td>Autonomous systems, although capable of perfor...</td>\n",
       "    </tr>\n",
       "  </tbody>\n",
       "</table>\n",
       "</div>"
      ],
      "text/plain": [
       "   level_0                                     conference   city  date  index  \\\n",
       "0        0  Advances in Intelligent Systems and Computing  city2  2021    0.0   \n",
       "1        0  Advances in Intelligent Systems and Computing  city2  2021    0.0   \n",
       "2        0  Advances in Intelligent Systems and Computing  city2  2021    0.0   \n",
       "3        0  Advances in Intelligent Systems and Computing  city2  2021    0.0   \n",
       "4        0  Advances in Intelligent Systems and Computing  city2  2021    0.0   \n",
       "\n",
       "              keyword confjournal  \\\n",
       "0         Environment  Conference   \n",
       "1             Goal(s)  Conference   \n",
       "2  Intelligent agents  Conference   \n",
       "3         Proficiency  Conference   \n",
       "4     Self-assessment  Conference   \n",
       "\n",
       "                                               title  \\\n",
       "0  Self-assessment of Proficiency of Intelligent ...   \n",
       "1  Self-assessment of Proficiency of Intelligent ...   \n",
       "2  Self-assessment of Proficiency of Intelligent ...   \n",
       "3  Self-assessment of Proficiency of Intelligent ...   \n",
       "4  Self-assessment of Proficiency of Intelligent ...   \n",
       "\n",
       "                                            abstract  \n",
       "0  Autonomous systems, although capable of perfor...  \n",
       "1  Autonomous systems, although capable of perfor...  \n",
       "2  Autonomous systems, although capable of perfor...  \n",
       "3  Autonomous systems, although capable of perfor...  \n",
       "4  Autonomous systems, although capable of perfor...  "
      ]
     },
     "execution_count": 189,
     "metadata": {},
     "output_type": "execute_result"
    }
   ],
   "source": [
    "Paper_volume.head()"
   ]
  },
  {
   "cell_type": "code",
   "execution_count": 196,
   "metadata": {
    "pycharm": {
     "name": "#%%\n"
    }
   },
   "outputs": [],
   "source": [
    "Review_Papers = Reviews.set_index('idA').join(Author.set_index('id')).set_index('idP').join(Papers.set_index('id')).reset_index()"
   ]
  },
  {
   "cell_type": "code",
   "execution_count": 197,
   "metadata": {
    "pycharm": {
     "name": "#%%\n"
    }
   },
   "outputs": [
    {
     "data": {
      "text/html": [
       "<div>\n",
       "<style scoped>\n",
       "    .dataframe tbody tr th:only-of-type {\n",
       "        vertical-align: middle;\n",
       "    }\n",
       "\n",
       "    .dataframe tbody tr th {\n",
       "        vertical-align: top;\n",
       "    }\n",
       "\n",
       "    .dataframe thead th {\n",
       "        text-align: right;\n",
       "    }\n",
       "</style>\n",
       "<table border=\"1\" class=\"dataframe\">\n",
       "  <thead>\n",
       "    <tr style=\"text-align: right;\">\n",
       "      <th></th>\n",
       "      <th>index</th>\n",
       "      <th>decision</th>\n",
       "      <th>content</th>\n",
       "      <th>name</th>\n",
       "      <th>confjournal</th>\n",
       "      <th>idEidV</th>\n",
       "      <th>title</th>\n",
       "      <th>abstract</th>\n",
       "    </tr>\n",
       "  </thead>\n",
       "  <tbody>\n",
       "    <tr>\n",
       "      <th>0</th>\n",
       "      <td>0</td>\n",
       "      <td>Accepted</td>\n",
       "      <td>content of the review...</td>\n",
       "      <td>Fry R.</td>\n",
       "      <td>Conference</td>\n",
       "      <td>0</td>\n",
       "      <td>Self-assessment of Proficiency of Intelligent ...</td>\n",
       "      <td>Autonomous systems, although capable of perfor...</td>\n",
       "    </tr>\n",
       "    <tr>\n",
       "      <th>1</th>\n",
       "      <td>0</td>\n",
       "      <td>Accepted</td>\n",
       "      <td>content of the review...</td>\n",
       "      <td>Thomas D.C.</td>\n",
       "      <td>Conference</td>\n",
       "      <td>0</td>\n",
       "      <td>Self-assessment of Proficiency of Intelligent ...</td>\n",
       "      <td>Autonomous systems, although capable of perfor...</td>\n",
       "    </tr>\n",
       "    <tr>\n",
       "      <th>2</th>\n",
       "      <td>0</td>\n",
       "      <td>Accepted</td>\n",
       "      <td>content of the review...</td>\n",
       "      <td>Fujimoto M.S.</td>\n",
       "      <td>Conference</td>\n",
       "      <td>0</td>\n",
       "      <td>Self-assessment of Proficiency of Intelligent ...</td>\n",
       "      <td>Autonomous systems, although capable of perfor...</td>\n",
       "    </tr>\n",
       "    <tr>\n",
       "      <th>3</th>\n",
       "      <td>1</td>\n",
       "      <td>Accepted</td>\n",
       "      <td>content of the review...</td>\n",
       "      <td>Walters D.J.</td>\n",
       "      <td>Conference</td>\n",
       "      <td>1</td>\n",
       "      <td>Bridging theory to practice: Feedforward and c...</td>\n",
       "      <td>Practice is of the essence in Engineering cour...</td>\n",
       "    </tr>\n",
       "    <tr>\n",
       "      <th>4</th>\n",
       "      <td>1</td>\n",
       "      <td>Accepted</td>\n",
       "      <td>content of the review...</td>\n",
       "      <td>Lyng G.</td>\n",
       "      <td>Conference</td>\n",
       "      <td>1</td>\n",
       "      <td>Bridging theory to practice: Feedforward and c...</td>\n",
       "      <td>Practice is of the essence in Engineering cour...</td>\n",
       "    </tr>\n",
       "  </tbody>\n",
       "</table>\n",
       "</div>"
      ],
      "text/plain": [
       "   index  decision                   content           name confjournal  \\\n",
       "0      0  Accepted  content of the review...         Fry R.  Conference   \n",
       "1      0  Accepted  content of the review...    Thomas D.C.  Conference   \n",
       "2      0  Accepted  content of the review...  Fujimoto M.S.  Conference   \n",
       "3      1  Accepted  content of the review...   Walters D.J.  Conference   \n",
       "4      1  Accepted  content of the review...        Lyng G.  Conference   \n",
       "\n",
       "   idEidV                                              title  \\\n",
       "0       0  Self-assessment of Proficiency of Intelligent ...   \n",
       "1       0  Self-assessment of Proficiency of Intelligent ...   \n",
       "2       0  Self-assessment of Proficiency of Intelligent ...   \n",
       "3       1  Bridging theory to practice: Feedforward and c...   \n",
       "4       1  Bridging theory to practice: Feedforward and c...   \n",
       "\n",
       "                                            abstract  \n",
       "0  Autonomous systems, although capable of perfor...  \n",
       "1  Autonomous systems, although capable of perfor...  \n",
       "2  Autonomous systems, although capable of perfor...  \n",
       "3  Practice is of the essence in Engineering cour...  \n",
       "4  Practice is of the essence in Engineering cour...  "
      ]
     },
     "execution_count": 197,
     "metadata": {},
     "output_type": "execute_result"
    }
   ],
   "source": [
    "Review_Papers.head()"
   ]
  },
  {
   "cell_type": "code",
   "execution_count": 198,
   "metadata": {
    "pycharm": {
     "name": "#%%\n"
    }
   },
   "outputs": [],
   "source": [
    "Editor_Chair = Review_Papers.merge(Journal_Keyword, left_on='title', right_on='title',\n",
    "                                   how='left').merge(Paper_volume, left_on='title', \n",
    "                                                     right_on='title',how='left')"
   ]
  },
  {
   "cell_type": "code",
   "execution_count": 199,
   "metadata": {
    "pycharm": {
     "name": "#%%\n"
    }
   },
   "outputs": [
    {
     "data": {
      "text/html": [
       "<div>\n",
       "<style scoped>\n",
       "    .dataframe tbody tr th:only-of-type {\n",
       "        vertical-align: middle;\n",
       "    }\n",
       "\n",
       "    .dataframe tbody tr th {\n",
       "        vertical-align: top;\n",
       "    }\n",
       "\n",
       "    .dataframe thead th {\n",
       "        text-align: right;\n",
       "    }\n",
       "</style>\n",
       "<table border=\"1\" class=\"dataframe\">\n",
       "  <thead>\n",
       "    <tr style=\"text-align: right;\">\n",
       "      <th></th>\n",
       "      <th>index_x</th>\n",
       "      <th>decision</th>\n",
       "      <th>content</th>\n",
       "      <th>name</th>\n",
       "      <th>confjournal_x</th>\n",
       "      <th>idEidV</th>\n",
       "      <th>title</th>\n",
       "      <th>abstract_x</th>\n",
       "      <th>level_0_x</th>\n",
       "      <th>journal</th>\n",
       "      <th>...</th>\n",
       "      <th>confjournal_y</th>\n",
       "      <th>abstract_y</th>\n",
       "      <th>level_0_y</th>\n",
       "      <th>conference</th>\n",
       "      <th>city</th>\n",
       "      <th>date_y</th>\n",
       "      <th>index</th>\n",
       "      <th>keyword_y</th>\n",
       "      <th>confjournal</th>\n",
       "      <th>abstract</th>\n",
       "    </tr>\n",
       "  </thead>\n",
       "  <tbody>\n",
       "    <tr>\n",
       "      <th>0</th>\n",
       "      <td>0</td>\n",
       "      <td>Accepted</td>\n",
       "      <td>content of the review...</td>\n",
       "      <td>Fry R.</td>\n",
       "      <td>Conference</td>\n",
       "      <td>0</td>\n",
       "      <td>Self-assessment of Proficiency of Intelligent ...</td>\n",
       "      <td>Autonomous systems, although capable of perfor...</td>\n",
       "      <td>0.0</td>\n",
       "      <td>Journal of Hydraulic Engineering</td>\n",
       "      <td>...</td>\n",
       "      <td>Conference</td>\n",
       "      <td>Autonomous systems, although capable of perfor...</td>\n",
       "      <td>0.0</td>\n",
       "      <td>Advances in Intelligent Systems and Computing</td>\n",
       "      <td>city2</td>\n",
       "      <td>2021.0</td>\n",
       "      <td>0.0</td>\n",
       "      <td>Environment</td>\n",
       "      <td>Conference</td>\n",
       "      <td>Autonomous systems, although capable of perfor...</td>\n",
       "    </tr>\n",
       "    <tr>\n",
       "      <th>1</th>\n",
       "      <td>0</td>\n",
       "      <td>Accepted</td>\n",
       "      <td>content of the review...</td>\n",
       "      <td>Fry R.</td>\n",
       "      <td>Conference</td>\n",
       "      <td>0</td>\n",
       "      <td>Self-assessment of Proficiency of Intelligent ...</td>\n",
       "      <td>Autonomous systems, although capable of perfor...</td>\n",
       "      <td>0.0</td>\n",
       "      <td>Journal of Hydraulic Engineering</td>\n",
       "      <td>...</td>\n",
       "      <td>Conference</td>\n",
       "      <td>Autonomous systems, although capable of perfor...</td>\n",
       "      <td>0.0</td>\n",
       "      <td>Advances in Intelligent Systems and Computing</td>\n",
       "      <td>city2</td>\n",
       "      <td>2021.0</td>\n",
       "      <td>0.0</td>\n",
       "      <td>Goal(s)</td>\n",
       "      <td>Conference</td>\n",
       "      <td>Autonomous systems, although capable of perfor...</td>\n",
       "    </tr>\n",
       "    <tr>\n",
       "      <th>2</th>\n",
       "      <td>0</td>\n",
       "      <td>Accepted</td>\n",
       "      <td>content of the review...</td>\n",
       "      <td>Fry R.</td>\n",
       "      <td>Conference</td>\n",
       "      <td>0</td>\n",
       "      <td>Self-assessment of Proficiency of Intelligent ...</td>\n",
       "      <td>Autonomous systems, although capable of perfor...</td>\n",
       "      <td>0.0</td>\n",
       "      <td>Journal of Hydraulic Engineering</td>\n",
       "      <td>...</td>\n",
       "      <td>Conference</td>\n",
       "      <td>Autonomous systems, although capable of perfor...</td>\n",
       "      <td>0.0</td>\n",
       "      <td>Advances in Intelligent Systems and Computing</td>\n",
       "      <td>city2</td>\n",
       "      <td>2021.0</td>\n",
       "      <td>0.0</td>\n",
       "      <td>Intelligent agents</td>\n",
       "      <td>Conference</td>\n",
       "      <td>Autonomous systems, although capable of perfor...</td>\n",
       "    </tr>\n",
       "    <tr>\n",
       "      <th>3</th>\n",
       "      <td>0</td>\n",
       "      <td>Accepted</td>\n",
       "      <td>content of the review...</td>\n",
       "      <td>Fry R.</td>\n",
       "      <td>Conference</td>\n",
       "      <td>0</td>\n",
       "      <td>Self-assessment of Proficiency of Intelligent ...</td>\n",
       "      <td>Autonomous systems, although capable of perfor...</td>\n",
       "      <td>0.0</td>\n",
       "      <td>Journal of Hydraulic Engineering</td>\n",
       "      <td>...</td>\n",
       "      <td>Conference</td>\n",
       "      <td>Autonomous systems, although capable of perfor...</td>\n",
       "      <td>0.0</td>\n",
       "      <td>Advances in Intelligent Systems and Computing</td>\n",
       "      <td>city2</td>\n",
       "      <td>2021.0</td>\n",
       "      <td>0.0</td>\n",
       "      <td>Proficiency</td>\n",
       "      <td>Conference</td>\n",
       "      <td>Autonomous systems, although capable of perfor...</td>\n",
       "    </tr>\n",
       "    <tr>\n",
       "      <th>4</th>\n",
       "      <td>0</td>\n",
       "      <td>Accepted</td>\n",
       "      <td>content of the review...</td>\n",
       "      <td>Fry R.</td>\n",
       "      <td>Conference</td>\n",
       "      <td>0</td>\n",
       "      <td>Self-assessment of Proficiency of Intelligent ...</td>\n",
       "      <td>Autonomous systems, although capable of perfor...</td>\n",
       "      <td>0.0</td>\n",
       "      <td>Journal of Hydraulic Engineering</td>\n",
       "      <td>...</td>\n",
       "      <td>Conference</td>\n",
       "      <td>Autonomous systems, although capable of perfor...</td>\n",
       "      <td>0.0</td>\n",
       "      <td>Advances in Intelligent Systems and Computing</td>\n",
       "      <td>city2</td>\n",
       "      <td>2021.0</td>\n",
       "      <td>0.0</td>\n",
       "      <td>Self-assessment</td>\n",
       "      <td>Conference</td>\n",
       "      <td>Autonomous systems, although capable of perfor...</td>\n",
       "    </tr>\n",
       "  </tbody>\n",
       "</table>\n",
       "<p>5 rows × 24 columns</p>\n",
       "</div>"
      ],
      "text/plain": [
       "   index_x  decision                   content    name confjournal_x  idEidV  \\\n",
       "0        0  Accepted  content of the review...  Fry R.    Conference       0   \n",
       "1        0  Accepted  content of the review...  Fry R.    Conference       0   \n",
       "2        0  Accepted  content of the review...  Fry R.    Conference       0   \n",
       "3        0  Accepted  content of the review...  Fry R.    Conference       0   \n",
       "4        0  Accepted  content of the review...  Fry R.    Conference       0   \n",
       "\n",
       "                                               title  \\\n",
       "0  Self-assessment of Proficiency of Intelligent ...   \n",
       "1  Self-assessment of Proficiency of Intelligent ...   \n",
       "2  Self-assessment of Proficiency of Intelligent ...   \n",
       "3  Self-assessment of Proficiency of Intelligent ...   \n",
       "4  Self-assessment of Proficiency of Intelligent ...   \n",
       "\n",
       "                                          abstract_x  level_0_x  \\\n",
       "0  Autonomous systems, although capable of perfor...        0.0   \n",
       "1  Autonomous systems, although capable of perfor...        0.0   \n",
       "2  Autonomous systems, although capable of perfor...        0.0   \n",
       "3  Autonomous systems, although capable of perfor...        0.0   \n",
       "4  Autonomous systems, although capable of perfor...        0.0   \n",
       "\n",
       "                            journal  ...  confjournal_y  \\\n",
       "0  Journal of Hydraulic Engineering  ...     Conference   \n",
       "1  Journal of Hydraulic Engineering  ...     Conference   \n",
       "2  Journal of Hydraulic Engineering  ...     Conference   \n",
       "3  Journal of Hydraulic Engineering  ...     Conference   \n",
       "4  Journal of Hydraulic Engineering  ...     Conference   \n",
       "\n",
       "                                          abstract_y  level_0_y  \\\n",
       "0  Autonomous systems, although capable of perfor...        0.0   \n",
       "1  Autonomous systems, although capable of perfor...        0.0   \n",
       "2  Autonomous systems, although capable of perfor...        0.0   \n",
       "3  Autonomous systems, although capable of perfor...        0.0   \n",
       "4  Autonomous systems, although capable of perfor...        0.0   \n",
       "\n",
       "                                      conference   city  date_y  index  \\\n",
       "0  Advances in Intelligent Systems and Computing  city2  2021.0    0.0   \n",
       "1  Advances in Intelligent Systems and Computing  city2  2021.0    0.0   \n",
       "2  Advances in Intelligent Systems and Computing  city2  2021.0    0.0   \n",
       "3  Advances in Intelligent Systems and Computing  city2  2021.0    0.0   \n",
       "4  Advances in Intelligent Systems and Computing  city2  2021.0    0.0   \n",
       "\n",
       "            keyword_y confjournal  \\\n",
       "0         Environment  Conference   \n",
       "1             Goal(s)  Conference   \n",
       "2  Intelligent agents  Conference   \n",
       "3         Proficiency  Conference   \n",
       "4     Self-assessment  Conference   \n",
       "\n",
       "                                            abstract  \n",
       "0  Autonomous systems, although capable of perfor...  \n",
       "1  Autonomous systems, although capable of perfor...  \n",
       "2  Autonomous systems, although capable of perfor...  \n",
       "3  Autonomous systems, although capable of perfor...  \n",
       "4  Autonomous systems, although capable of perfor...  \n",
       "\n",
       "[5 rows x 24 columns]"
      ]
     },
     "execution_count": 199,
     "metadata": {},
     "output_type": "execute_result"
    }
   ],
   "source": [
    "Editor_Chair.head()"
   ]
  },
  {
   "cell_type": "code",
   "execution_count": 203,
   "metadata": {
    "pycharm": {
     "name": "#%%\n"
    }
   },
   "outputs": [
    {
     "ename": "ValueError",
     "evalue": "cannot convert float NaN to integer",
     "output_type": "error",
     "traceback": [
      "\u001B[0;31m---------------------------------------------------------------------------\u001B[0m",
      "\u001B[0;31mValueError\u001B[0m                                Traceback (most recent call last)",
      "\u001B[0;32m<ipython-input-203-5463d6a89b4f>\u001B[0m in \u001B[0;36m<module>\u001B[0;34m\u001B[0m\n\u001B[1;32m     49\u001B[0m \u001B[0;34m\u001B[0m\u001B[0m\n\u001B[1;32m     50\u001B[0m \u001B[0mg\u001B[0m\u001B[0;34m.\u001B[0m\u001B[0madd\u001B[0m\u001B[0;34m(\u001B[0m\u001B[0;34m(\u001B[0m\u001B[0mKG\u001B[0m\u001B[0;34m.\u001B[0m\u001B[0mReviewer\u001B[0m\u001B[0;34m,\u001B[0m \u001B[0mKG\u001B[0m\u001B[0;34m.\u001B[0m\u001B[0mreviewed\u001B[0m\u001B[0;34m,\u001B[0m \u001B[0mKG\u001B[0m\u001B[0;34m.\u001B[0m\u001B[0mSubmission\u001B[0m\u001B[0;34m)\u001B[0m\u001B[0;34m)\u001B[0m\u001B[0;34m\u001B[0m\u001B[0;34m\u001B[0m\u001B[0m\n\u001B[0;32m---> 51\u001B[0;31m \u001B[0mg\u001B[0m\u001B[0;34m.\u001B[0m\u001B[0madd\u001B[0m\u001B[0;34m(\u001B[0m\u001B[0;34m(\u001B[0m\u001B[0mLiteral\u001B[0m\u001B[0;34m(\u001B[0m\u001B[0mEditor_Chair\u001B[0m\u001B[0;34m[\u001B[0m\u001B[0;34m'name'\u001B[0m\u001B[0;34m]\u001B[0m\u001B[0;34m[\u001B[0m\u001B[0mk\u001B[0m\u001B[0;34m]\u001B[0m\u001B[0;34m)\u001B[0m\u001B[0;34m,\u001B[0m \u001B[0mKG\u001B[0m\u001B[0;34m.\u001B[0m\u001B[0mreviewed\u001B[0m\u001B[0;34m,\u001B[0m \u001B[0mLiteral\u001B[0m\u001B[0;34m(\u001B[0m\u001B[0mint\u001B[0m\u001B[0;34m(\u001B[0m\u001B[0mEditor_Chair\u001B[0m\u001B[0;34m[\u001B[0m\u001B[0;34m'date_y'\u001B[0m\u001B[0;34m]\u001B[0m\u001B[0;34m[\u001B[0m\u001B[0mk\u001B[0m\u001B[0;34m]\u001B[0m\u001B[0;34m)\u001B[0m\u001B[0;34m)\u001B[0m\u001B[0;34m)\u001B[0m\u001B[0;34m)\u001B[0m\u001B[0;34m\u001B[0m\u001B[0;34m\u001B[0m\u001B[0m\n\u001B[0m",
      "\u001B[0;31mValueError\u001B[0m: cannot convert float NaN to integer"
     ]
    }
   ],
   "source": [
    "KG = Namespace(\"http://KG-SDM-Lab3.org/\")\n",
    "g.bind(\"kg\", KG)\n",
    "\n",
    "g.add((KG.Author, KG.participatedIn, KG.Paper))   \n",
    "for k in range(len(Author_Papers['name'])):\n",
    "    g.add((Literal(Author_Papers['name'][k]), KG.participatedIn, Literal(Author_Papers['title'][k])))\n",
    "\n",
    "g.add((KG.Paper, KG.PaperRelatedTo, KG.SubjectArea))\n",
    "for k in range(len(Keyword_Papers['keyword'])):\n",
    "    g.add((Literal(Keyword_Papers['title'][k]), KG.PaperRelatedTo, Literal(Keyword_Papers['keyword'][k])))\n",
    "\n",
    "g.add((KG.Journal, KG.JournalRelatedTo, KG.SubjectArea))\n",
    "for k in range(len(Journal_Keyword['keyword'])):\n",
    "    g.add((Literal(Journal_Keyword['journal'][k]), KG.JournalRelatedTo, Literal(Journal_Keyword['keyword'][k])))\n",
    "\n",
    "g.add((KG.Conference, KG.ConferenceRelatedTo, KG.SubjectArea))\n",
    "for k in range(len(Paper_volume['keyword'])):\n",
    "    g.add((Literal(Paper_volume['conference'][k]), KG.ConferenceRelatedTo, Literal(Paper_volume['keyword'][k])))\n",
    "\n",
    "g.add((KG.Journal, KG.published, KG.Volume))\n",
    "for k in range(len(Journal_Keyword['journal'])):\n",
    "    g.add((Literal(Journal_Keyword['journal'][k]), KG.published, Literal(Journal_Keyword['volume'][k])))\n",
    "\n",
    "g.add((KG.Conference, KG.published, KG.Proceeding))\n",
    "for k in range(len(Paper_volume['conference'])):\n",
    "    g.add((Literal(Paper_volume['conference'][k]), KG.published, Literal(Paper_volume['date'][k])))\n",
    "\n",
    "g.add((KG.Reviewer, KG.decided, KG.Decision))\n",
    "for k in range(len(Review_Papers['name'])):\n",
    "    g.add((Literal(Review_Papers['name'][k]), KG.decided, Literal(Review_Papers['decision'][k])))\n",
    "\n",
    "\n",
    "g.add((KG.Conference, KG.handledBy, KG.Chair))\n",
    "g.add((KG.Journal, KG.handledBy, KG.Editor))\n",
    "for k in range(len(Editor_Chair['conference'])):\n",
    "    if Editor_Chair['confjournal'][k] == 'Conference':\n",
    "        g.add((Literal(Editor_Chair['conference'][k]), KG.handledBy, Literal(Editor_Chair['name'][k])))\n",
    "    else:\n",
    "        g.add((Literal(Editor_Chair['journal'][k]), KG.handledBy, Literal(Editor_Chair['name'][k])))\n",
    "        \n",
    "#Not resonable       \n",
    "g.add((KG.Chair, KG.assigned, KG.Reviewer))\n",
    "g.add((KG.Editor, KG.assigned, KG.Reviewer))\n",
    "for k in range(len(Editor_Chair['conference'])):\n",
    "    if Editor_Chair['confjournal'][k] == 'Conference':\n",
    "        g.add((Literal(Editor_Chair['name'][k]), KG.assigned, Literal(Editor_Chair['name'][k])))\n",
    "    else:\n",
    "        g.add((Literal(Editor_Chair['name'][k]), KG.assigned, Literal(Editor_Chair['name'][k])))\n",
    "        \n",
    "g.add((KG.Reviewer, KG.reviewed, KG.Submission))\n",
    "g.add((Literal(Editor_Chair['name'][k]), KG.reviewed, Literal(int(Editor_Chair['date_y'][k]))))"
   ]
  },
  {
   "cell_type": "code",
   "execution_count": 204,
   "metadata": {
    "pycharm": {
     "name": "#%%\n"
    }
   },
   "outputs": [
    {
     "data": {
      "text/plain": [
       "<Graph identifier=N3c7a2ff6de5648bda4acfc8ca76fcfc7 (<class 'rdflib.graph.Graph'>)>"
      ]
     },
     "execution_count": 204,
     "metadata": {},
     "output_type": "execute_result"
    }
   ],
   "source": [
    "g"
   ]
  },
  {
   "cell_type": "code",
   "execution_count": null,
   "metadata": {
    "pycharm": {
     "name": "#%%\n"
    }
   },
   "outputs": [],
   "source": []
  }
 ],
 "metadata": {
  "kernelspec": {
   "display_name": "Python 3",
   "language": "python",
   "name": "python3"
  },
  "language_info": {
   "codemirror_mode": {
    "name": "ipython",
    "version": 3
   },
   "file_extension": ".py",
   "mimetype": "text/x-python",
   "name": "python",
   "nbconvert_exporter": "python",
   "pygments_lexer": "ipython3",
   "version": "3.8.10"
  }
 },
 "nbformat": 4,
 "nbformat_minor": 4
}